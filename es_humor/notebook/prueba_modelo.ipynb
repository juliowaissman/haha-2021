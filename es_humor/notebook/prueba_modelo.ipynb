{
 "metadata": {
  "language_info": {
   "codemirror_mode": {
    "name": "ipython",
    "version": 3
   },
   "file_extension": ".py",
   "mimetype": "text/x-python",
   "name": "python",
   "nbconvert_exporter": "python",
   "pygments_lexer": "ipython3",
   "version": "3.9.2"
  },
  "orig_nbformat": 2,
  "kernelspec": {
   "name": "python392jvsc74a57bd08dc2aabceac50a476e5851a4fe7b5bbfa5162af38b5ccb144b46135e38e815d4",
   "display_name": "Python 3.9.2 64-bit ('haha': conda)"
  }
 },
 "nbformat": 4,
 "nbformat_minor": 2,
 "cells": [
  {
   "source": [
    "# Prueba del modelo para la estimación de la categoría humor"
   ],
   "cell_type": "markdown",
   "metadata": {}
  },
  {
   "cell_type": "code",
   "execution_count": 1,
   "metadata": {},
   "outputs": [
    {
     "output_type": "stream",
     "name": "stdout",
     "text": [
      "/Users/juliowaissman/Documents/proyectos/2021 PLN-Humor/es_humor/notebook\n"
     ]
    }
   ],
   "source": [
    "!pwd\n",
    "import pandas as pd\n",
    "import spacy\n",
    "\n",
    "nlp = spacy.load(\"../training/model-best\")"
   ]
  },
  {
   "cell_type": "code",
   "execution_count": 2,
   "metadata": {},
   "outputs": [
    {
     "output_type": "execute_result",
     "data": {
      "text/plain": [
       "           id                                               text\n",
       "0  tweet24001  Historia #36.\\n*Entra corriendo y gritando al ...\n",
       "1  tweet24002  estoy tomando helado en el centro y pedi tiram...\n",
       "2  tweet24003  — ¿De 15 o 20 centímetros?\\n\\n— Ven y averígua...\n",
       "3  tweet24004                                        Que fea soy\n",
       "4  tweet24005  #OMG, VAMOS EN RETROCESO RESULTE CON 40 SEGUID..."
      ],
      "text/html": "<div>\n<style scoped>\n    .dataframe tbody tr th:only-of-type {\n        vertical-align: middle;\n    }\n\n    .dataframe tbody tr th {\n        vertical-align: top;\n    }\n\n    .dataframe thead th {\n        text-align: right;\n    }\n</style>\n<table border=\"1\" class=\"dataframe\">\n  <thead>\n    <tr style=\"text-align: right;\">\n      <th></th>\n      <th>id</th>\n      <th>text</th>\n    </tr>\n  </thead>\n  <tbody>\n    <tr>\n      <th>0</th>\n      <td>tweet24001</td>\n      <td>Historia #36.\\n*Entra corriendo y gritando al ...</td>\n    </tr>\n    <tr>\n      <th>1</th>\n      <td>tweet24002</td>\n      <td>estoy tomando helado en el centro y pedi tiram...</td>\n    </tr>\n    <tr>\n      <th>2</th>\n      <td>tweet24003</td>\n      <td>— ¿De 15 o 20 centímetros?\\n\\n— Ven y averígua...</td>\n    </tr>\n    <tr>\n      <th>3</th>\n      <td>tweet24004</td>\n      <td>Que fea soy</td>\n    </tr>\n    <tr>\n      <th>4</th>\n      <td>tweet24005</td>\n      <td>#OMG, VAMOS EN RETROCESO RESULTE CON 40 SEGUID...</td>\n    </tr>\n  </tbody>\n</table>\n</div>"
     },
     "metadata": {},
     "execution_count": 2
    }
   ],
   "source": [
    "df_dev = pd.read_csv(\"../../data/haha_2021_dev.csv\")\n",
    "\n",
    "df_dev.head()"
   ]
  },
  {
   "cell_type": "code",
   "execution_count": 8,
   "metadata": {},
   "outputs": [
    {
     "output_type": "stream",
     "name": "stdout",
     "text": [
      "{'humor': 0.9360994100570679, 'no_humor': 0.06390060484409332}\n-¿Cómo te va en la clase de ortografía? -Vien vien, grasias... la berda no me puedo kejar.\n"
     ]
    }
   ],
   "source": [
    "doc = nlp(df_dev.text[10])\n",
    "print(doc.cats)\n",
    "print(doc.text)"
   ]
  },
  {
   "cell_type": "code",
   "execution_count": 9,
   "metadata": {
    "tags": []
   },
   "outputs": [
    {
     "output_type": "stream",
     "name": "stderr",
     "text": [
      "<ipython-input-9-927e0d17e34f>:4: SettingWithCopyWarning: \nA value is trying to be set on a copy of a slice from a DataFrame\n\nSee the caveats in the documentation: https://pandas.pydata.org/pandas-docs/stable/user_guide/indexing.html#returning-a-view-versus-a-copy\n  df_dev.is_humor[df_dev.humor > 0.5] = 1\n"
     ]
    }
   ],
   "source": [
    "docs = nlp.pipe(df_dev.text)\n",
    "df_dev['humor'] = [doc.cats['humor'] for doc in docs]\n",
    "df_dev['is_humor'] = 0\n",
    "df_dev.is_humor[df_dev.humor > 0.5] = 1 \n"
   ]
  },
  {
   "cell_type": "code",
   "execution_count": 25,
   "metadata": {},
   "outputs": [
    {
     "output_type": "execute_result",
     "data": {
      "text/plain": [
       "           id                                               text  is_humor  \\\n",
       "0  tweet24001  Historia #36.\\n*Entra corriendo y gritando al ...         0   \n",
       "1  tweet24002  estoy tomando helado en el centro y pedi tiram...         0   \n",
       "2  tweet24003  — ¿De 15 o 20 centímetros?\\n\\n— Ven y averígua...         1   \n",
       "3  tweet24004                                        Que fea soy         0   \n",
       "4  tweet24005  #OMG, VAMOS EN RETROCESO RESULTE CON 40 SEGUID...         0   \n",
       "\n",
       "      humor  \n",
       "0  0.384026  \n",
       "1  0.117504  \n",
       "2  0.954271  \n",
       "3  0.003162  \n",
       "4  0.004559  "
      ],
      "text/html": "<div>\n<style scoped>\n    .dataframe tbody tr th:only-of-type {\n        vertical-align: middle;\n    }\n\n    .dataframe tbody tr th {\n        vertical-align: top;\n    }\n\n    .dataframe thead th {\n        text-align: right;\n    }\n</style>\n<table border=\"1\" class=\"dataframe\">\n  <thead>\n    <tr style=\"text-align: right;\">\n      <th></th>\n      <th>id</th>\n      <th>text</th>\n      <th>is_humor</th>\n      <th>humor</th>\n    </tr>\n  </thead>\n  <tbody>\n    <tr>\n      <th>0</th>\n      <td>tweet24001</td>\n      <td>Historia #36.\\n*Entra corriendo y gritando al ...</td>\n      <td>0</td>\n      <td>0.384026</td>\n    </tr>\n    <tr>\n      <th>1</th>\n      <td>tweet24002</td>\n      <td>estoy tomando helado en el centro y pedi tiram...</td>\n      <td>0</td>\n      <td>0.117504</td>\n    </tr>\n    <tr>\n      <th>2</th>\n      <td>tweet24003</td>\n      <td>— ¿De 15 o 20 centímetros?\\n\\n— Ven y averígua...</td>\n      <td>1</td>\n      <td>0.954271</td>\n    </tr>\n    <tr>\n      <th>3</th>\n      <td>tweet24004</td>\n      <td>Que fea soy</td>\n      <td>0</td>\n      <td>0.003162</td>\n    </tr>\n    <tr>\n      <th>4</th>\n      <td>tweet24005</td>\n      <td>#OMG, VAMOS EN RETROCESO RESULTE CON 40 SEGUID...</td>\n      <td>0</td>\n      <td>0.004559</td>\n    </tr>\n  </tbody>\n</table>\n</div>"
     },
     "metadata": {},
     "execution_count": 25
    }
   ],
   "source": [
    "df_dev.head()"
   ]
  },
  {
   "cell_type": "code",
   "execution_count": null,
   "metadata": {},
   "outputs": [],
   "source": []
  }
 ]
}