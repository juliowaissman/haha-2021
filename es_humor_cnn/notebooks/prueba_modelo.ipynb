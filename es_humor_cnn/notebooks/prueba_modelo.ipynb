{
 "metadata": {
  "language_info": {
   "codemirror_mode": {
    "name": "ipython",
    "version": 3
   },
   "file_extension": ".py",
   "mimetype": "text/x-python",
   "name": "python",
   "nbconvert_exporter": "python",
   "pygments_lexer": "ipython3",
   "version": "3.9.2"
  },
  "orig_nbformat": 2,
  "kernelspec": {
   "name": "python392jvsc74a57bd08dc2aabceac50a476e5851a4fe7b5bbfa5162af38b5ccb144b46135e38e815d4",
   "display_name": "Python 3.9.2 64-bit ('haha': conda)"
  }
 },
 "nbformat": 4,
 "nbformat_minor": 2,
 "cells": [
  {
   "source": [
    "# Prueba del modelo para la estimación de la categoría humor"
   ],
   "cell_type": "markdown",
   "metadata": {}
  },
  {
   "cell_type": "code",
   "execution_count": 5,
   "metadata": {},
   "outputs": [
    {
     "output_type": "stream",
     "name": "stdout",
     "text": [
      "/Users/juliowaissman/Documents/proyectos/2021 PLN-Humor/es_humor_cnn/notebooks\n"
     ]
    }
   ],
   "source": [
    "!pwd\n",
    "import pandas as pd\n",
    "import spacy\n",
    "\n",
    "nlp = spacy.load(\"../training/cnn/model-best\")"
   ]
  },
  {
   "cell_type": "code",
   "execution_count": 7,
   "metadata": {},
   "outputs": [
    {
     "output_type": "execute_result",
     "data": {
      "text/plain": [
       "           id                                               text\n",
       "0  tweet24001  Historia #36.\\n*Entra corriendo y gritando al ...\n",
       "1  tweet24002  estoy tomando helado en el centro y pedi tiram...\n",
       "2  tweet24003  — ¿De 15 o 20 centímetros?\\n\\n— Ven y averígua...\n",
       "3  tweet24004                                        Que fea soy\n",
       "4  tweet24005  #OMG, VAMOS EN RETROCESO RESULTE CON 40 SEGUID..."
      ],
      "text/html": "<div>\n<style scoped>\n    .dataframe tbody tr th:only-of-type {\n        vertical-align: middle;\n    }\n\n    .dataframe tbody tr th {\n        vertical-align: top;\n    }\n\n    .dataframe thead th {\n        text-align: right;\n    }\n</style>\n<table border=\"1\" class=\"dataframe\">\n  <thead>\n    <tr style=\"text-align: right;\">\n      <th></th>\n      <th>id</th>\n      <th>text</th>\n    </tr>\n  </thead>\n  <tbody>\n    <tr>\n      <th>0</th>\n      <td>tweet24001</td>\n      <td>Historia #36.\\n*Entra corriendo y gritando al ...</td>\n    </tr>\n    <tr>\n      <th>1</th>\n      <td>tweet24002</td>\n      <td>estoy tomando helado en el centro y pedi tiram...</td>\n    </tr>\n    <tr>\n      <th>2</th>\n      <td>tweet24003</td>\n      <td>— ¿De 15 o 20 centímetros?\\n\\n— Ven y averígua...</td>\n    </tr>\n    <tr>\n      <th>3</th>\n      <td>tweet24004</td>\n      <td>Que fea soy</td>\n    </tr>\n    <tr>\n      <th>4</th>\n      <td>tweet24005</td>\n      <td>#OMG, VAMOS EN RETROCESO RESULTE CON 40 SEGUID...</td>\n    </tr>\n  </tbody>\n</table>\n</div>"
     },
     "metadata": {},
     "execution_count": 7
    }
   ],
   "source": [
    "df_dev = pd.read_csv(\"../../data/haha_2021_dev.csv\")\n",
    "\n",
    "df_dev.head()"
   ]
  },
  {
   "cell_type": "code",
   "execution_count": 18,
   "metadata": {
    "tags": []
   },
   "outputs": [],
   "source": [
    "docs = nlp.pipe(df_dev.text)\n",
    "df_dev['humor'] = [1 if doc.cats['humor'] > 0.5 else 0 for doc in docs]"
   ]
  },
  {
   "cell_type": "code",
   "execution_count": 19,
   "metadata": {},
   "outputs": [
    {
     "output_type": "execute_result",
     "data": {
      "text/plain": [
       "           id                                               text  humor\n",
       "0  tweet24001  Historia #36.\\n*Entra corriendo y gritando al ...      1\n",
       "1  tweet24002  estoy tomando helado en el centro y pedi tiram...      0\n",
       "2  tweet24003  — ¿De 15 o 20 centímetros?\\n\\n— Ven y averígua...      1\n",
       "3  tweet24004                                        Que fea soy      0\n",
       "4  tweet24005  #OMG, VAMOS EN RETROCESO RESULTE CON 40 SEGUID...      0"
      ],
      "text/html": "<div>\n<style scoped>\n    .dataframe tbody tr th:only-of-type {\n        vertical-align: middle;\n    }\n\n    .dataframe tbody tr th {\n        vertical-align: top;\n    }\n\n    .dataframe thead th {\n        text-align: right;\n    }\n</style>\n<table border=\"1\" class=\"dataframe\">\n  <thead>\n    <tr style=\"text-align: right;\">\n      <th></th>\n      <th>id</th>\n      <th>text</th>\n      <th>humor</th>\n    </tr>\n  </thead>\n  <tbody>\n    <tr>\n      <th>0</th>\n      <td>tweet24001</td>\n      <td>Historia #36.\\n*Entra corriendo y gritando al ...</td>\n      <td>1</td>\n    </tr>\n    <tr>\n      <th>1</th>\n      <td>tweet24002</td>\n      <td>estoy tomando helado en el centro y pedi tiram...</td>\n      <td>0</td>\n    </tr>\n    <tr>\n      <th>2</th>\n      <td>tweet24003</td>\n      <td>— ¿De 15 o 20 centímetros?\\n\\n— Ven y averígua...</td>\n      <td>1</td>\n    </tr>\n    <tr>\n      <th>3</th>\n      <td>tweet24004</td>\n      <td>Que fea soy</td>\n      <td>0</td>\n    </tr>\n    <tr>\n      <th>4</th>\n      <td>tweet24005</td>\n      <td>#OMG, VAMOS EN RETROCESO RESULTE CON 40 SEGUID...</td>\n      <td>0</td>\n    </tr>\n  </tbody>\n</table>\n</div>"
     },
     "metadata": {},
     "execution_count": 19
    }
   ],
   "source": [
    "df_dev.head()"
   ]
  }
 ]
}